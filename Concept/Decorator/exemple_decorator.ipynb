{
  "cells": [
    {
      "cell_type": "code",
      "execution_count": 3,
      "metadata": {
        "colab": {
          "base_uri": "https://localhost:8080/"
        },
        "id": "OwFtWpuz3nnX",
        "outputId": "95efbba7-49d6-46a3-89c3-509866d11d70"
      },
      "outputs": [
        {
          "name": "stdout",
          "output_type": "stream",
          "text": [
            "I'm a decorator function, I can do something before\n",
            "I'm a normal function that print a message.\n",
            "I'm a decorator function2, I can do something after\n"
          ]
        }
      ],
      "source": [
        "def decorator_function(function):\n",
        "    \"\"\"A decorator function: It return a wrapper function that encapsulate your function, and allow to modify its behavior\"\"\"\n",
        "\n",
        "    def wrapper():\n",
        "        print(\"I'm a decorator function, I can do something before\")\n",
        "        function()\n",
        "        print(\"I'm a decorator function2, I can do something after\")\n",
        "    \n",
        "    # Return the function Object. We don't call it !\n",
        "    return wrapper\n",
        "\n",
        "@decorator_function\n",
        "def common():\n",
        "    \"\"\"A common function. Can be any function in your code. We just add @decorator_function tp decorate it.\"\"\"\n",
        "    print(\"I'm a normal function that print a message.\")\n",
        "\n",
        "# So we can call common like this:\n",
        "common()"
      ]
    },
    {
      "cell_type": "code",
      "execution_count": 4,
      "metadata": {
        "colab": {
          "base_uri": "https://localhost:8080/"
        },
        "id": "NCQ0bX9u4IHy",
        "outputId": "e235e34c-d97f-4e3c-9a21-02a40c37af15"
      },
      "outputs": [
        {
          "name": "stdout",
          "output_type": "stream",
          "text": [
            "I'm a decorator function, I can do something before\n",
            "I'm a decorator function, I can do something before\n",
            "I'm a normal function that print a message.\n",
            "I'm a decorator function2, I can do something after\n",
            "I'm a decorator function2, I can do something after\n"
          ]
        }
      ],
      "source": [
        "common = decorator_function(common)\n",
        "common()"
      ]
    },
    {
      "cell_type": "code",
      "execution_count": 3,
      "metadata": {
        "colab": {
          "base_uri": "https://localhost:8080/"
        },
        "id": "LHweVuS44Rkl",
        "outputId": "79fb4513-5ef3-4808-9a82-dcb06513193c"
      },
      "outputs": [
        {
          "name": "stdout",
          "output_type": "stream",
          "text": [
            "I'm a decorator function, I can do something before\n",
            "I'm a decorator function, I can do something before\n",
            "I'm a decorator function, I can do something before\n",
            "I'm a normal function that print a message.\n",
            "I'm a decorator function, I can do something after\n",
            "I'm a decorator function, I can do something after\n",
            "I'm a decorator function, I can do something after\n"
          ]
        }
      ],
      "source": [
        "decorator_function(common)()"
      ]
    }
  ],
  "metadata": {
    "colab": {
      "name": "exemple decorator.ipynb",
      "provenance": []
    },
    "kernelspec": {
      "display_name": "Python 3.8.13 64-bit ('3.8.13')",
      "language": "python",
      "name": "python3"
    },
    "language_info": {
      "codemirror_mode": {
        "name": "ipython",
        "version": 3
      },
      "file_extension": ".py",
      "mimetype": "text/x-python",
      "name": "python",
      "nbconvert_exporter": "python",
      "pygments_lexer": "ipython3",
      "version": "3.8.13"
    },
    "vscode": {
      "interpreter": {
        "hash": "110cc1dee26208153f2972f08a2ad52b6a56238dc66d48e87fb757ef2996db56"
      }
    }
  },
  "nbformat": 4,
  "nbformat_minor": 0
}
