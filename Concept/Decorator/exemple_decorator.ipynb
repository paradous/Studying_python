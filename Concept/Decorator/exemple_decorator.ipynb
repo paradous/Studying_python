{
  "nbformat": 4,
  "nbformat_minor": 0,
  "metadata": {
    "colab": {
      "name": "exemple decorator.ipynb",
      "provenance": [],
      "authorship_tag": "ABX9TyPTEIkRQgIb9ljJTPupv+qe",
      "include_colab_link": true
    },
    "kernelspec": {
      "name": "python3",
      "display_name": "Python 3"
    }
  },
  "cells": [
    {
      "cell_type": "markdown",
      "metadata": {
        "id": "view-in-github",
        "colab_type": "text"
      },
      "source": [
        "<a href=\"https://colab.research.google.com/github/paradous/Studying_python/blob/main/exemple_decorator.ipynb\" target=\"_parent\"><img src=\"https://colab.research.google.com/assets/colab-badge.svg\" alt=\"Open In Colab\"/></a>"
      ]
    },
    {
      "cell_type": "code",
      "metadata": {
        "id": "OwFtWpuz3nnX",
        "outputId": "c38bb485-31e1-4986-f123-ab3b25a48c56",
        "colab": {
          "base_uri": "https://localhost:8080/"
        }
      },
      "source": [
        "def decorator_function(function):\n",
        "    \"\"\"A decorator function: It return a wrapper function that encapsulate your function, and allow to modify its behavior\"\"\"\n",
        "\n",
        "    def wrapper():\n",
        "        print(\"I'm a decorator function, I can do something before\")\n",
        "        function()\n",
        "        print(\"I'm a decorator function, I can do something after\")\n",
        "    \n",
        "    # Return the function Object. We don't call it !\n",
        "    return wrapper\n",
        "\n",
        "@decorator_function\n",
        "def common():\n",
        "    \"\"\"A common function. Can be any function in your code. We just add @decorator_function tp decorate it.\"\"\"\n",
        "    print(\"I'm a normal function that print a message.\")\n",
        "\n",
        "# So we can call common like this:\n",
        "common()"
      ],
      "execution_count": 11,
      "outputs": [
        {
          "output_type": "stream",
          "text": [
            "I'm a decorator function, I can do something before\n",
            "I'm a normal function that print a message.\n",
            "I'm a decorator function, I can do something after\n"
          ],
          "name": "stdout"
        }
      ]
    },
    {
      "cell_type": "code",
      "metadata": {
        "id": "NCQ0bX9u4IHy",
        "outputId": "c09b5c54-380f-4e3e-f082-acf13bd79c28",
        "colab": {
          "base_uri": "https://localhost:8080/"
        }
      },
      "source": [
        "common = decorator_function(common)\n",
        "common()"
      ],
      "execution_count": 9,
      "outputs": [
        {
          "output_type": "stream",
          "text": [
            "I'm a decorator function, I can do something before\n",
            "I'm a decorator function, I can do something before\n",
            "I'm a decorator function, I can do something before\n",
            "I'm a decorator function, I can do something before\n",
            "I'm a normal function that print a message.\n",
            "I'm a decorator function, I can do something after\n",
            "I'm a decorator function, I can do something after\n",
            "I'm a decorator function, I can do something after\n",
            "I'm a decorator function, I can do something after\n"
          ],
          "name": "stdout"
        }
      ]
    },
    {
      "cell_type": "code",
      "metadata": {
        "id": "LHweVuS44Rkl",
        "outputId": "5060e4d2-44f2-4d9e-e00f-f86f8b297778",
        "colab": {
          "base_uri": "https://localhost:8080/"
        }
      },
      "source": [
        "decorator_function(common)()"
      ],
      "execution_count": 12,
      "outputs": [
        {
          "output_type": "stream",
          "text": [
            "I'm a decorator function, I can do something before\n",
            "I'm a decorator function, I can do something before\n",
            "I'm a normal function that print a message.\n",
            "I'm a decorator function, I can do something after\n",
            "I'm a decorator function, I can do something after\n"
          ],
          "name": "stdout"
        }
      ]
    }
  ]
}