{
  "nbformat": 4,
  "nbformat_minor": 0,
  "metadata": {
    "colab": {
      "name": "exemple decorator.ipynb",
      "provenance": []
    },
    "kernelspec": {
      "name": "python3",
      "display_name": "Python 3"
    }
  },
  "cells": [
    {
      "cell_type": "code",
      "metadata": {
        "id": "OwFtWpuz3nnX",
        "outputId": "95efbba7-49d6-46a3-89c3-509866d11d70",
        "colab": {
          "base_uri": "https://localhost:8080/"
        }
      },
      "source": [
        "def decorator_function(function):\n",
        "    \"\"\"A decorator function: It return a wrapper function that encapsulate your function, and allow to modify its behavior\"\"\"\n",
        "\n",
        "    def wrapper():\n",
        "        print(\"I'm a decorator function, I can do something before\")\n",
        "        function()\n",
        "        print(\"I'm a decorator function, I can do something after\")\n",
        "    \n",
        "    # Return the function Object. We don't call it !\n",
        "    return wrapper\n",
        "\n",
        "@decorator_function\n",
        "def common():\n",
        "    \"\"\"A common function. Can be any function in your code. We just add @decorator_function tp decorate it.\"\"\"\n",
        "    print(\"I'm a normal function that print a message.\")\n",
        "\n",
        "# So we can call common like this:\n",
        "common()"
      ],
      "execution_count": 4,
      "outputs": [
        {
          "output_type": "stream",
          "text": [
            "I'm a decorator function, I can do something before\n",
            "I'm a normal function that print a message.\n",
            "I'm a decorator function, I can do something after\n"
          ],
          "name": "stdout"
        }
      ]
    },
    {
      "cell_type": "code",
      "metadata": {
        "id": "NCQ0bX9u4IHy",
        "outputId": "e235e34c-d97f-4e3c-9a21-02a40c37af15",
        "colab": {
          "base_uri": "https://localhost:8080/"
        }
      },
      "source": [
        "common = decorator_function(common)\n",
        "common()"
      ],
      "execution_count": 2,
      "outputs": [
        {
          "output_type": "stream",
          "text": [
            "I'm a decorator function, I can do something before\n",
            "I'm a decorator function, I can do something before\n",
            "I'm a normal function that print a message.\n",
            "I'm a decorator function, I can do something after\n",
            "I'm a decorator function, I can do something after\n"
          ],
          "name": "stdout"
        }
      ]
    },
    {
      "cell_type": "code",
      "metadata": {
        "id": "LHweVuS44Rkl",
        "outputId": "79fb4513-5ef3-4808-9a82-dcb06513193c",
        "colab": {
          "base_uri": "https://localhost:8080/"
        }
      },
      "source": [
        "decorator_function(common)()"
      ],
      "execution_count": 3,
      "outputs": [
        {
          "output_type": "stream",
          "text": [
            "I'm a decorator function, I can do something before\n",
            "I'm a decorator function, I can do something before\n",
            "I'm a decorator function, I can do something before\n",
            "I'm a normal function that print a message.\n",
            "I'm a decorator function, I can do something after\n",
            "I'm a decorator function, I can do something after\n",
            "I'm a decorator function, I can do something after\n"
          ],
          "name": "stdout"
        }
      ]
    }
  ]
}